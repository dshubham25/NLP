{
  "nbformat": 4,
  "nbformat_minor": 0,
  "metadata": {
    "colab": {
      "name": "SoftmaxRegression",
      "provenance": []
    },
    "kernelspec": {
      "name": "python3",
      "display_name": "Python 3"
    }
  },
  "cells": [
    {
      "cell_type": "code",
      "metadata": {
        "id": "bnyXfTipkW8j",
        "colab_type": "code",
        "colab": {}
      },
      "source": [
        "import numpy as np"
      ],
      "execution_count": 0,
      "outputs": []
    },
    {
      "cell_type": "code",
      "metadata": {
        "id": "kAYs3LpdkZwI",
        "colab_type": "code",
        "colab": {
          "base_uri": "https://localhost:8080/",
          "height": 101
        },
        "outputId": "68b16930-7034-4288-a24b-308e8b4d5fc7"
      },
      "source": [
        "y = np.array([0, 1, 2, 2])\n",
        "y_enc = (np.arange(np.max(y) + 1) == y[:, None]).astype(float)\n",
        "\n",
        "print('one-hot encoding:\\n', y_enc)"
      ],
      "execution_count": 2,
      "outputs": [
        {
          "output_type": "stream",
          "text": [
            "one-hot encoding:\n",
            " [[1. 0. 0.]\n",
            " [0. 1. 0.]\n",
            " [0. 0. 1.]\n",
            " [0. 0. 1.]]\n"
          ],
          "name": "stdout"
        }
      ]
    },
    {
      "cell_type": "code",
      "metadata": {
        "id": "0CqeIHzTkmG8",
        "colab_type": "code",
        "colab": {
          "base_uri": "https://localhost:8080/",
          "height": 218
        },
        "outputId": "d0af21f6-f16b-4263-dd9b-459bd2b4efb8"
      },
      "source": [
        "X = np.array([[0.1, 0.5],\n",
        "              [1.1, 2.3],\n",
        "              [-1.1, -2.3],\n",
        "              [-1.5, -2.5]])\n",
        "\n",
        "W = np.array([[0.1, 0.2, 0.3],\n",
        "              [0.1, 0.2, 0.3]])\n",
        "\n",
        "bias = np.array([0.01, 0.1, 0.1])\n",
        "\n",
        "print('Inputs X:\\n', X)\n",
        "print('\\nWeights W:\\n', W)\n",
        "print('\\nbias:\\n', bias)"
      ],
      "execution_count": 3,
      "outputs": [
        {
          "output_type": "stream",
          "text": [
            "Inputs X:\n",
            " [[ 0.1  0.5]\n",
            " [ 1.1  2.3]\n",
            " [-1.1 -2.3]\n",
            " [-1.5 -2.5]]\n",
            "\n",
            "Weights W:\n",
            " [[0.1 0.2 0.3]\n",
            " [0.1 0.2 0.3]]\n",
            "\n",
            "bias:\n",
            " [0.01 0.1  0.1 ]\n"
          ],
          "name": "stdout"
        }
      ]
    },
    {
      "cell_type": "code",
      "metadata": {
        "id": "HJrEY2gQlUFX",
        "colab_type": "code",
        "colab": {
          "base_uri": "https://localhost:8080/",
          "height": 218
        },
        "outputId": "61e838ab-3cd7-4d6e-ba24-749aba41b1df"
      },
      "source": [
        "X = np.array([[0.1, 0.5],\n",
        "              [1.1, 2.3],\n",
        "              [-1.1, -2.3],\n",
        "              [-1.5, -2.5]])\n",
        "\n",
        "W = np.array([[0.1, 0.2, 0.3],\n",
        "              [0.1, 0.2, 0.3]])\n",
        "\n",
        "bias = np.array([0.01, 0.1, 0.1])\n",
        "\n",
        "print('Inputs X:\\n', X)\n",
        "print('\\nWeights W:\\n', W)\n",
        "print('\\nbias:\\n', bias)"
      ],
      "execution_count": 4,
      "outputs": [
        {
          "output_type": "stream",
          "text": [
            "Inputs X:\n",
            " [[ 0.1  0.5]\n",
            " [ 1.1  2.3]\n",
            " [-1.1 -2.3]\n",
            " [-1.5 -2.5]]\n",
            "\n",
            "Weights W:\n",
            " [[0.1 0.2 0.3]\n",
            " [0.1 0.2 0.3]]\n",
            "\n",
            "bias:\n",
            " [0.01 0.1  0.1 ]\n"
          ],
          "name": "stdout"
        }
      ]
    },
    {
      "cell_type": "code",
      "metadata": {
        "id": "mapfwRVClcmt",
        "colab_type": "code",
        "colab": {
          "base_uri": "https://localhost:8080/",
          "height": 101
        },
        "outputId": "2fd81947-2872-4560-9c50-ac5fcf2cb805"
      },
      "source": [
        "def net_input(X, W, b):\n",
        "    return (X.dot(W) + b)\n",
        "\n",
        "net_in = net_input(X, W, bias)\n",
        "print('net input:\\n', net_in)"
      ],
      "execution_count": 5,
      "outputs": [
        {
          "output_type": "stream",
          "text": [
            "net input:\n",
            " [[ 0.07  0.22  0.28]\n",
            " [ 0.35  0.78  1.12]\n",
            " [-0.33 -0.58 -0.92]\n",
            " [-0.39 -0.7  -1.1 ]]\n"
          ],
          "name": "stdout"
        }
      ]
    },
    {
      "cell_type": "code",
      "metadata": {
        "id": "-ZE0R5b0lk7f",
        "colab_type": "code",
        "colab": {
          "base_uri": "https://localhost:8080/",
          "height": 84
        },
        "outputId": "c7ab26ed-7393-43db-e74c-d0cf170e468e"
      },
      "source": [
        "def softmax(z):\n",
        "    return (np.exp(z.T) / np.sum(np.exp(z), axis=1)).T\n",
        "\n",
        "smax = softmax(net_in)\n",
        "print(smax)"
      ],
      "execution_count": 7,
      "outputs": [
        {
          "output_type": "stream",
          "text": [
            "[[0.29450637 0.34216758 0.36332605]\n",
            " [0.21290077 0.32728332 0.45981591]\n",
            " [0.42860913 0.33380113 0.23758974]\n",
            " [0.44941979 0.32962558 0.22095463]]\n"
          ],
          "name": "stdout"
        }
      ]
    },
    {
      "cell_type": "code",
      "metadata": {
        "id": "ERPOqsxUlq_e",
        "colab_type": "code",
        "colab": {
          "base_uri": "https://localhost:8080/",
          "height": 34
        },
        "outputId": "0e111e50-b1e7-4bf4-c535-7fdc896291ae"
      },
      "source": [
        "def to_classlabel(z):\n",
        "    return z.argmax(axis=1)\n",
        "\n",
        "print('predicted class labels: ', to_classlabel(smax))"
      ],
      "execution_count": 8,
      "outputs": [
        {
          "output_type": "stream",
          "text": [
            "predicted class labels:  [2 2 0 0]\n"
          ],
          "name": "stdout"
        }
      ]
    },
    {
      "cell_type": "code",
      "metadata": {
        "id": "zmO3g9-6lwVV",
        "colab_type": "code",
        "colab": {
          "base_uri": "https://localhost:8080/",
          "height": 34
        },
        "outputId": "42a11e75-751d-451e-b82f-c0fde13d3752"
      },
      "source": [
        "def cross_entropy(output, y_target):\n",
        "    return - np.sum(np.log(output) * (y_target), axis=1)\n",
        "\n",
        "xent = cross_entropy(smax, y_enc)\n",
        "print('Cross Entropy:', xent)"
      ],
      "execution_count": 9,
      "outputs": [
        {
          "output_type": "stream",
          "text": [
            "Cross Entropy: [1.22245465 1.11692907 1.43720989 1.50979788]\n"
          ],
          "name": "stdout"
        }
      ]
    },
    {
      "cell_type": "code",
      "metadata": {
        "id": "_FpTC26ol1Do",
        "colab_type": "code",
        "colab": {
          "base_uri": "https://localhost:8080/",
          "height": 34
        },
        "outputId": "dd7c04af-d63c-4ba4-c128-c212b50e17a4"
      },
      "source": [
        "def cost(output, y_target):\n",
        "    return np.mean(cross_entropy(output, y_target))\n",
        "\n",
        "J_cost = cost(smax, y_enc)\n",
        "print(J_cost)"
      ],
      "execution_count": 10,
      "outputs": [
        {
          "output_type": "stream",
          "text": [
            "1.3215978715930938\n"
          ],
          "name": "stdout"
        }
      ]
    },
    {
      "cell_type": "code",
      "metadata": {
        "id": "lKv9KNRol8BF",
        "colab_type": "code",
        "colab": {}
      },
      "source": [
        ""
      ],
      "execution_count": 0,
      "outputs": []
    }
  ]
}