{
  "nbformat": 4,
  "nbformat_minor": 0,
  "metadata": {
    "colab": {
      "name": "Levenshtein distance .ipynb",
      "provenance": []
    },
    "kernelspec": {
      "name": "python3",
      "display_name": "Python 3"
    },
    "accelerator": "GPU"
  },
  "cells": [
    {
      "cell_type": "code",
      "metadata": {
        "id": "7ExLOlDKv0tW",
        "colab_type": "code",
        "colab": {
          "base_uri": "https://localhost:8080/",
          "height": 34
        },
        "outputId": "8817129b-487e-4e68-d2cf-6144bc81a22b"
      },
      "source": [
        "def LD(s, t):\n",
        "    if s == \"\":\n",
        "        return len(t)\n",
        "    if t == \"\":\n",
        "        return len(s)\n",
        "    if s[-1] == t[-1]:\n",
        "        cost = 0\n",
        "    else:\n",
        "        cost = 1\n",
        "       \n",
        "    res = min([LD(s[:-1], t)+1,\n",
        "               LD(s, t[:-1])+1, \n",
        "               LD(s[:-1], t[:-1]) + cost])\n",
        "\n",
        "    return res\n",
        "\n",
        "print(LD(\"Python\", \"Peithen\"))"
      ],
      "execution_count": 1,
      "outputs": [
        {
          "output_type": "stream",
          "text": [
            "3\n"
          ],
          "name": "stdout"
        }
      ]
    },
    {
      "cell_type": "code",
      "metadata": {
        "id": "TJ7rPLP1wK-s",
        "colab_type": "code",
        "colab": {
          "base_uri": "https://localhost:8080/",
          "height": 87
        },
        "outputId": "fd5f3976-a501-4866-9ff1-2095c4668e85"
      },
      "source": [
        "from collections import Counter\n",
        "\n",
        "def call_counter(func):\n",
        "    def helper(*args, **kwargs):\n",
        "        helper.calls += 1\n",
        "        key = str(args) + str(kwargs)\n",
        "        helper.c[key] += 1\n",
        "        return func(*args, **kwargs)\n",
        "    helper.c = Counter()\n",
        "    helper.calls = 0\n",
        "    helper.__name__= func.__name__\n",
        "\n",
        "    return helper\n",
        "\n",
        "@call_counter\n",
        "def LD(s, t):\n",
        "    if s == \"\":\n",
        "        return len(t)\n",
        "    if t == \"\":\n",
        "        return len(s)\n",
        "    if s[-1] == t[-1]:\n",
        "        cost = 0\n",
        "    else:\n",
        "        cost = 1\n",
        "       \n",
        "    res = min([LD(s[:-1], t)+1,\n",
        "               LD(s, t[:-1])+1, \n",
        "               LD(s[:-1], t[:-1]) + cost])\n",
        "\n",
        "    return res\n",
        "\n",
        "print(LD(\"Python\", \"Peithen\"))\n",
        "\n",
        "print(\"LD was called \" + str(LD.calls) + \" times!\")\n",
        "print(LD.c.most_common())"
      ],
      "execution_count": 2,
      "outputs": [
        {
          "output_type": "stream",
          "text": [
            "3\n",
            "LD was called 29737 times!\n",
            "[(\"('', 'P'){}\", 5336), (\"('P', ''){}\", 4942), (\"('P', 'P'){}\", 3653), (\"('', ''){}\", 3653), (\"('', 'Pe'){}\", 2364), (\"('P', 'Pe'){}\", 1683), (\"('Py', ''){}\", 1666), (\"('Py', 'P'){}\", 1289), (\"('', 'Pei'){}\", 912), (\"('P', 'Pei'){}\", 681), (\"('Py', 'Pe'){}\", 681), (\"('Pyt', ''){}\", 462), (\"('Pyt', 'P'){}\", 377), (\"('Py', 'Pei'){}\", 321), (\"('', 'Peit'){}\", 292), (\"('P', 'Peit'){}\", 231), (\"('Pyt', 'Pe'){}\", 231), (\"('Py', 'Peit'){}\", 129), (\"('Pyt', 'Pei'){}\", 129), (\"('Pyth', ''){}\", 98), (\"('Pyth', 'P'){}\", 85), (\"('', 'Peith'){}\", 72), (\"('Pyt', 'Peit'){}\", 63), (\"('P', 'Peith'){}\", 61), (\"('Pyth', 'Pe'){}\", 61), (\"('Py', 'Peith'){}\", 41), (\"('Pyth', 'Pei'){}\", 41), (\"('Pyt', 'Peith'){}\", 25), (\"('Pyth', 'Peit'){}\", 25), (\"('Pytho', ''){}\", 14), (\"('Pyth', 'Peith'){}\", 13), (\"('Pytho', 'P'){}\", 13), (\"('', 'Peithe'){}\", 12), (\"('P', 'Peithe'){}\", 11), (\"('Pytho', 'Pe'){}\", 11), (\"('Py', 'Peithe'){}\", 9), (\"('Pytho', 'Pei'){}\", 9), (\"('Pyt', 'Peithe'){}\", 7), (\"('Pytho', 'Peit'){}\", 7), (\"('Pyth', 'Peithe'){}\", 5), (\"('Pytho', 'Peith'){}\", 5), (\"('Pytho', 'Peithe'){}\", 3), (\"('Python', 'Peithen'){}\", 1), (\"('Pytho', 'Peithen'){}\", 1), (\"('Pyth', 'Peithen'){}\", 1), (\"('Pyt', 'Peithen'){}\", 1), (\"('Py', 'Peithen'){}\", 1), (\"('P', 'Peithen'){}\", 1), (\"('', 'Peithen'){}\", 1), (\"('Python', 'Peithe'){}\", 1), (\"('Python', 'Peith'){}\", 1), (\"('Python', 'Peit'){}\", 1), (\"('Python', 'Pei'){}\", 1), (\"('Python', 'Pe'){}\", 1), (\"('Python', 'P'){}\", 1), (\"('Python', ''){}\", 1)]\n"
          ],
          "name": "stdout"
        }
      ]
    },
    {
      "cell_type": "code",
      "metadata": {
        "id": "WNW_VQZrwRii",
        "colab_type": "code",
        "colab": {
          "base_uri": "https://localhost:8080/",
          "height": 50
        },
        "outputId": "af8e4c0b-319e-424a-e9e8-57f29a7f67f7"
      },
      "source": [
        "def call_counter(func):\n",
        "    def helper(*args, **kwargs):\n",
        "        helper.calls += 1\n",
        "        return func(*args, **kwargs)\n",
        "    helper.calls = 0\n",
        "    helper.__name__= func.__name__\n",
        "\n",
        "    return helper\n",
        "\n",
        "\n",
        "memo = {}\n",
        "@call_counter\n",
        "def levenshtein(s, t):\n",
        "    if s == \"\":\n",
        "        return len(t)\n",
        "    if t == \"\":\n",
        "        return len(s)\n",
        "    cost = 0 if s[-1] == t[-1] else 1\n",
        "       \n",
        "    i1 = (s[:-1], t)\n",
        "    if not i1 in memo:\n",
        "        memo[i1] = levenshtein(*i1)\n",
        "    i2 = (s, t[:-1])\n",
        "    if not i2 in memo:\n",
        "        memo[i2] = levenshtein(*i2)\n",
        "    i3 = (s[:-1], t[:-1])\n",
        "    if not i3 in memo:\n",
        "        memo[i3] = levenshtein(*i3)\n",
        "    res = min([memo[i1]+1, memo[i2]+1, memo[i3]+cost])\n",
        "    \n",
        "    return res\n",
        "\n",
        "print(levenshtein(\"Python\", \"Pethno\"))\n",
        "\n",
        "print(\"The function was called \" + str(levenshtein.calls) + \" times!\")"
      ],
      "execution_count": 3,
      "outputs": [
        {
          "output_type": "stream",
          "text": [
            "3\n",
            "The function was called 49 times!\n"
          ],
          "name": "stdout"
        }
      ]
    },
    {
      "cell_type": "code",
      "metadata": {
        "id": "j-EMRQnswelF",
        "colab_type": "code",
        "colab": {
          "base_uri": "https://localhost:8080/",
          "height": 118
        },
        "outputId": "5b5356a2-193d-420f-e871-7cb276976b53"
      },
      "source": [
        "def iterative_levenshtein(s, t):\n",
        "    \"\"\" \n",
        "        iterative_levenshtein(s, t) -> ldist\n",
        "        ldist is the Levenshtein distance between the strings \n",
        "        s and t.\n",
        "        For all i and j, dist[i,j] will contain the Levenshtein \n",
        "        distance between the first i characters of s and the \n",
        "        first j characters of t\n",
        "    \"\"\"\n",
        "\n",
        "    rows = len(s)+1\n",
        "    cols = len(t)+1\n",
        "    dist = [[0 for x in range(cols)] for x in range(rows)]\n",
        "\n",
        "    # source prefixes can be transformed into empty strings \n",
        "    # by deletions:\n",
        "    for i in range(1, rows):\n",
        "        dist[i][0] = i\n",
        "\n",
        "    # target prefixes can be created from an empty source string\n",
        "    # by inserting the characters\n",
        "    for i in range(1, cols):\n",
        "        dist[0][i] = i\n",
        "        \n",
        "    for col in range(1, cols):\n",
        "        for row in range(1, rows):\n",
        "            if s[row-1] == t[col-1]:\n",
        "                cost = 0\n",
        "            else:\n",
        "                cost = 1\n",
        "            dist[row][col] = min(dist[row-1][col] + 1,      # deletion\n",
        "                                 dist[row][col-1] + 1,      # insertion\n",
        "                                 dist[row-1][col-1] + cost) # substitution\n",
        "\n",
        "    for r in range(rows):\n",
        "        print(dist[r])\n",
        "    \n",
        " \n",
        "    return dist[row][col]\n",
        "\n",
        "print(iterative_levenshtein(\"flaw\", \"lawn\"))"
      ],
      "execution_count": 4,
      "outputs": [
        {
          "output_type": "stream",
          "text": [
            "[0, 1, 2, 3, 4]\n",
            "[1, 1, 2, 3, 4]\n",
            "[2, 1, 2, 3, 4]\n",
            "[3, 2, 1, 2, 3]\n",
            "[4, 3, 2, 1, 2]\n",
            "2\n"
          ],
          "name": "stdout"
        }
      ]
    },
    {
      "cell_type": "code",
      "metadata": {
        "id": "wFv9fkt-wpz_",
        "colab_type": "code",
        "colab": {
          "base_uri": "https://localhost:8080/",
          "height": 202
        },
        "outputId": "8dc1c067-894a-4ae2-cb1d-9ad0de25f467"
      },
      "source": [
        "print(iterative_levenshtein(\"Manhattan\", \"Manahaton\"))"
      ],
      "execution_count": 5,
      "outputs": [
        {
          "output_type": "stream",
          "text": [
            "[0, 1, 2, 3, 4, 5, 6, 7, 8, 9]\n",
            "[1, 0, 1, 2, 3, 4, 5, 6, 7, 8]\n",
            "[2, 1, 0, 1, 2, 3, 4, 5, 6, 7]\n",
            "[3, 2, 1, 0, 1, 2, 3, 4, 5, 6]\n",
            "[4, 3, 2, 1, 1, 1, 2, 3, 4, 5]\n",
            "[5, 4, 3, 2, 1, 2, 1, 2, 3, 4]\n",
            "[6, 5, 4, 3, 2, 2, 2, 1, 2, 3]\n",
            "[7, 6, 5, 4, 3, 3, 3, 2, 2, 3]\n",
            "[8, 7, 6, 5, 4, 4, 3, 3, 3, 3]\n",
            "[9, 8, 7, 6, 5, 5, 4, 4, 4, 3]\n",
            "3\n"
          ],
          "name": "stdout"
        }
      ]
    },
    {
      "cell_type": "code",
      "metadata": {
        "id": "yAhb2G3mw2Js",
        "colab_type": "code",
        "colab": {
          "base_uri": "https://localhost:8080/",
          "height": 101
        },
        "outputId": "1c55db10-46ef-491a-a12f-ffdd03a800fa"
      },
      "source": [
        "def iterative_levenshtein(s, t, **weight_dict):\n",
        "    \"\"\" \n",
        "        iterative_levenshtein(s, t) -> ldist\n",
        "        ldist is the Levenshtein distance between the strings \n",
        "        s and t.\n",
        "        For all i and j, dist[i,j] will contain the Levenshtein \n",
        "        distance between the first i characters of s and the \n",
        "        first j characters of t\n",
        "        \n",
        "        weight_dict: keyword parameters setting the costs for characters,\n",
        "                     the default value for a character will be 1\n",
        "    \"\"\"\n",
        "\n",
        "    rows = len(s)+1\n",
        "    cols = len(t)+1\n",
        "    \n",
        "    alphabet = \"abcdefghijklmnopqrstuvwxyz\"\n",
        "    w = dict( (x, (1, 1, 1)) for x in alphabet + alphabet.upper())\n",
        "    if weight_dict:\n",
        "        w.update(weight_dict)\n",
        "    \n",
        "    dist = [[0 for x in range(cols)] for x in range(rows)]\n",
        "\n",
        "    # source prefixes can be transformed into empty strings \n",
        "    # by deletions:\n",
        "    for row in range(1, rows):\n",
        "        dist[row][0] = dist[row-1][0] + w[s[row-1]][0]\n",
        "\n",
        "    # target prefixes can be created from an empty source string\n",
        "    # by inserting the characters\n",
        "    for col in range(1, cols):\n",
        "        dist[0][col] = dist[0][col-1] + w[t[col-1]][1]\n",
        "        \n",
        "    for col in range(1, cols):\n",
        "        for row in range(1, rows):\n",
        "            deletes = w[s[row-1]][0]\n",
        "            inserts = w[t[col-1]][1]\n",
        "            subs = max( (w[s[row-1]][2], w[t[col-1]][2]))\n",
        "            if s[row-1] == t[col-1]:\n",
        "                subs = 0\n",
        "            else:\n",
        "                subs = subs\n",
        "\n",
        "            dist[row][col] = min(dist[row-1][col] + deletes,\n",
        "                                 dist[row][col-1] + inserts,\n",
        "                                 dist[row-1][col-1] + subs) # substitution\n",
        "\n",
        "    for r in range(rows):\n",
        "        print(dist[r])\n",
        "    \n",
        " \n",
        "    return dist[row][col]\n",
        "\n",
        "# default:\n",
        "print(iterative_levenshtein(\"abx\", \n",
        "                            \"xya\", \n",
        "                            x=(3, 2, 8),\n",
        "                            y=(4, 5, 4),\n",
        "                            a=(7, 6, 6)) )\n",
        "#print(iterative_levenshtein(\"abc\", \"xyz\", costs=(1,1,substitution_costs)))"
      ],
      "execution_count": 6,
      "outputs": [
        {
          "output_type": "stream",
          "text": [
            "[0, 2, 7, 13]\n",
            "[7, 8, 8, 7]\n",
            "[8, 9, 9, 8]\n",
            "[11, 8, 12, 11]\n",
            "11\n"
          ],
          "name": "stdout"
        }
      ]
    }
  ]
}